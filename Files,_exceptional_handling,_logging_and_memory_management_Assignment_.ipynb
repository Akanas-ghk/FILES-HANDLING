{
  "nbformat": 4,
  "nbformat_minor": 0,
  "metadata": {
    "colab": {
      "provenance": []
    },
    "kernelspec": {
      "name": "python3",
      "display_name": "Python 3"
    },
    "language_info": {
      "name": "python"
    }
  },
  "cells": [
    {
      "cell_type": "markdown",
      "source": [
        "# **Files, exceptional handling, logging and memory management Assignment**"
      ],
      "metadata": {
        "id": "waScEstj5Gkk"
      }
    },
    {
      "cell_type": "markdown",
      "source": [
        "# **Q1. What is the difference between interpreted and compiled languages?**"
      ],
      "metadata": {
        "id": "C2k3FsHe5YZO"
      }
    },
    {
      "cell_type": "markdown",
      "source": [
        "- **Execution**:  \n",
        "  - **Interpreted**: Executes code line by line at runtime.  \n",
        "  - **Compiled**: Translates the entire code into machine code before execution.  \n",
        "\n",
        "- **Speed**:  \n",
        "  - **Interpreted**: Slower due to real-time translation.  \n",
        "  - **Compiled**: Faster since machine code is pre-generated.  \n",
        "\n",
        "- **Debugging**:  \n",
        "  - **Interpreted**: Easier to debug due to immediate execution.  \n",
        "  - **Compiled**: Harder to debug as errors appear after compilation.  \n",
        "\n",
        "- **Portability**:  \n",
        "  - **Interpreted**: More portable, runs on any system with an interpreter.  \n",
        "  - **Compiled**: Less portable, requires recompilation for different platforms.  \n",
        "\n",
        "- **Examples**:  \n",
        "  - **Interpreted**: Python, JavaScript.  \n",
        "  - **Compiled**: C, C++."
      ],
      "metadata": {
        "id": "l1T9UsDQ5lcR"
      }
    },
    {
      "cell_type": "markdown",
      "source": [
        "# **Q2. What is exception handling in Python**"
      ],
      "metadata": {
        "id": "DFbSwD-d6k0b"
      }
    },
    {
      "cell_type": "markdown",
      "source": [
        "Exception handling in Python manages runtime errors using `try`, `except`, `else`, and `finally` blocks. The `try` block contains code that may raise an exception, while the `except` block handles specific errors. The `else` block runs if no exceptions occur, and `finally` executes regardless of exceptions. Common exceptions include `ZeroDivisionError`, `TypeError`, and `ValueError`. Proper handling prevents crashes and ensures smooth program execution."
      ],
      "metadata": {
        "id": "pWe4-Yew60jK"
      }
    },
    {
      "cell_type": "markdown",
      "source": [
        "# **Q3. What is the purpose of the finally block in exception handling**"
      ],
      "metadata": {
        "id": "TohljUUm7A0u"
      }
    },
    {
      "cell_type": "markdown",
      "source": [
        "The `finally` block in Python’s exception handling ensures that specific code runs regardless of whether an exception occurs. It is used for cleanup actions like closing files, releasing resources, or resetting variables. Since it executes after the `try` and `except` blocks, it guarantees that essential operations complete, even if an error interrupts execution. This makes programs more reliable and prevents resource leaks."
      ],
      "metadata": {
        "id": "8spQ-VW584_4"
      }
    },
    {
      "cell_type": "markdown",
      "source": [
        "# **Q4. What is logging in Python**"
      ],
      "metadata": {
        "id": "qz8qLtKg89qw"
      }
    },
    {
      "cell_type": "markdown",
      "source": [
        "Logging in Python is a built-in module (`logging`) used to track events, errors, and debugging information during program execution. It helps developers monitor and troubleshoot applications efficiently. The module supports different log levels: `DEBUG`, `INFO`, `WARNING`, `ERROR`, and `CRITICAL`. Logs can be stored in files or displayed in the console. Using logging instead of print statements improves maintainability, debugging, and error tracking in complex applications."
      ],
      "metadata": {
        "id": "kACBcTL49H3g"
      }
    },
    {
      "cell_type": "markdown",
      "source": [
        "# **Q5. What is the significance of the __del__ method in Python**"
      ],
      "metadata": {
        "id": "rH56NS5T9RFu"
      }
    },
    {
      "cell_type": "markdown",
      "source": [
        "The `__del__` method in Python is a destructor that is called when an object is about to be destroyed. It allows cleanup tasks like closing files or releasing resources before the object is removed from memory. However, relying on `__del__` is discouraged as garbage collection timing is unpredictable. Instead, using context managers (`with` statement) and explicit resource management is preferred for better control and efficiency."
      ],
      "metadata": {
        "id": "XFWVWi1m9gSW"
      }
    },
    {
      "cell_type": "markdown",
      "source": [
        "# **Q6. What is the difference between import and from ... import in Python**"
      ],
      "metadata": {
        "id": "kcSjV-JB-KT2"
      }
    },
    {
      "cell_type": "markdown",
      "source": [
        "import module: Imports the entire module, requiring functions or variables to be accessed with module.name."
      ],
      "metadata": {
        "id": "u5EPHrTN-6nI"
      }
    },
    {
      "cell_type": "code",
      "source": [
        "import math\n",
        "print(math.sqrt(16))\n"
      ],
      "metadata": {
        "colab": {
          "base_uri": "https://localhost:8080/"
        },
        "id": "ZwMD0Eiv_DOx",
        "outputId": "01a99e41-dd31-41fb-c438-c2c491b5f948"
      },
      "execution_count": null,
      "outputs": [
        {
          "output_type": "stream",
          "name": "stdout",
          "text": [
            "4.0\n"
          ]
        }
      ]
    },
    {
      "cell_type": "markdown",
      "source": [
        "from module import name: Imports specific attributes directly, allowing direct access without module prefix."
      ],
      "metadata": {
        "id": "BNOGELsR_U5x"
      }
    },
    {
      "cell_type": "code",
      "source": [
        "from math import sqrt\n",
        "print(sqrt(16))\n"
      ],
      "metadata": {
        "colab": {
          "base_uri": "https://localhost:8080/"
        },
        "id": "7a7j-hql_hTX",
        "outputId": "03465645-242b-4c99-9a0e-816489b74cb6"
      },
      "execution_count": null,
      "outputs": [
        {
          "output_type": "stream",
          "name": "stdout",
          "text": [
            "4.0\n"
          ]
        }
      ]
    },
    {
      "cell_type": "markdown",
      "source": [
        "Using import keeps namespaces clear, while from ... import improves readability but may cause naming conflicts."
      ],
      "metadata": {
        "id": "FAaynZJG_yYU"
      }
    },
    {
      "cell_type": "markdown",
      "source": [
        "# **Q7. How can you handle multiple exceptions in Python**"
      ],
      "metadata": {
        "id": "OMHEu-dO_5gr"
      }
    },
    {
      "cell_type": "markdown",
      "source": [
        "In Python, multiple exceptions can be handled using:\n",
        "\n",
        "Multiple except blocks: Catch different exceptions separately."
      ],
      "metadata": {
        "id": "jSzTR7DmAFet"
      }
    },
    {
      "cell_type": "code",
      "source": [
        "try:\n",
        "    x =  1 / 0\n",
        "except ZeroDivisionError:\n",
        "    print(\"Cannot divide by zero!\")\n",
        "except ValueError:\n",
        "    print(\"Invalid value!\")\n"
      ],
      "metadata": {
        "colab": {
          "base_uri": "https://localhost:8080/"
        },
        "id": "zeoIyvTZAXBs",
        "outputId": "54fd3b15-5481-4080-cff0-e2a124f6180b"
      },
      "execution_count": null,
      "outputs": [
        {
          "output_type": "stream",
          "name": "stdout",
          "text": [
            "Cannot divide by zero!\n"
          ]
        }
      ]
    },
    {
      "cell_type": "markdown",
      "source": [
        "### Single except with tuple: Handle multiple exceptions together."
      ],
      "metadata": {
        "id": "RAbowQ_cD6Sy"
      }
    },
    {
      "cell_type": "code",
      "source": [
        "try:\n",
        "    x = int(\"abc\")\n",
        "except (ZeroDivisionError, ValueError) as e:\n",
        "    print(f\"Error: {e}\")\n"
      ],
      "metadata": {
        "id": "umxVKheAEEe8",
        "colab": {
          "base_uri": "https://localhost:8080/"
        },
        "outputId": "d5389c29-fdb5-4f08-e852-d2d8fd4b2882"
      },
      "execution_count": null,
      "outputs": [
        {
          "output_type": "stream",
          "name": "stdout",
          "text": [
            "Error: invalid literal for int() with base 10: 'abc'\n"
          ]
        }
      ]
    },
    {
      "cell_type": "markdown",
      "source": [
        "# **Q8. What is the purpose of the with statement when handling files in Python**"
      ],
      "metadata": {
        "id": "NFtKzsaoIb5O"
      }
    },
    {
      "cell_type": "markdown",
      "source": [
        "The with statement in Python is used for handling files efficiently by automatically managing resource allocation and release. When opening a file using with open(filename, mode) as file, Python ensures the file is properly closed after execution, even if an error occurs. This prevents resource leaks and improves code readability."
      ],
      "metadata": {
        "id": "5IPmCfK4JCJT"
      }
    },
    {
      "cell_type": "code",
      "source": [
        "with open(\"example.txt\", \"r\") as file:\n",
        "    content = file.read()\n"
      ],
      "metadata": {
        "id": "OwwkfHlWb6o8"
      },
      "execution_count": null,
      "outputs": []
    },
    {
      "cell_type": "markdown",
      "source": [
        "Without with, you must explicitly call file.close(), which can be error-prone. The with statement is part of Python’s context management, ensuring safe and efficient file handling."
      ],
      "metadata": {
        "id": "GxjZ4_95b8Nc"
      }
    },
    {
      "cell_type": "markdown",
      "source": [
        "# **Q9. What is the difference between multithreading and multiprocessing**"
      ],
      "metadata": {
        "id": "j_Fgx5Q7cC9k"
      }
    },
    {
      "cell_type": "markdown",
      "source": [
        "- **Definition**:  \n",
        "  - **Multithreading**: Runs multiple threads within a single process.  \n",
        "  - **Multiprocessing**: Runs multiple processes, each with its own memory space.  \n",
        "\n",
        "- **Execution**:  \n",
        "  - **Multithreading**: Threads share memory and execute concurrently.  \n",
        "  - **Multiprocessing**: Each process runs independently in parallel.  \n",
        "\n",
        "- **Performance**:  \n",
        "  - **Multithreading**: Best for I/O-bound tasks.  \n",
        "  - **Multiprocessing**: Best for CPU-bound tasks.  \n",
        "\n",
        "- **Memory Usage**:  \n",
        "  - **Multithreading**: Uses less memory as threads share resources.  \n",
        "  - **Multiprocessing**: Uses more memory due to separate processes.  \n",
        "\n",
        "- **Examples**:  \n",
        "  - **Multithreading**: Web scraping, I/O operations.  \n",
        "  - **Multiprocessing**: Data processing, computations."
      ],
      "metadata": {
        "id": "eUYl0qkRcVnb"
      }
    },
    {
      "cell_type": "markdown",
      "source": [
        "# **Q10. What are the advantages of using logging in a program**"
      ],
      "metadata": {
        "id": "GNLp2UjmcjlX"
      }
    },
    {
      "cell_type": "markdown",
      "source": [
        "- **Debugging**: Helps track and identify issues efficiently.  \n",
        "- **Error Tracking**: Captures errors and exceptions for troubleshooting.  \n",
        "- **Program Monitoring**: Records events and system behavior over time.  \n",
        "- **Custom Log Levels**: Supports `DEBUG`, `INFO`, `WARNING`, `ERROR`, and `CRITICAL` for filtering logs.  \n",
        "- **Persistent Records**: Saves logs to files for future analysis.  \n",
        "- **Better than Print**: More flexible and configurable than `print()` statements.  \n",
        "- **Concurrency Support**: Works well in multithreaded/multiprocess applications.  \n",
        "- **Configurable Output**: Allows logging to files, consoles, or remote servers.  \n",
        "- **Improves Maintainability**: Keeps the code clean and structured for long-term use."
      ],
      "metadata": {
        "id": "6sxj7jwidjIe"
      }
    },
    {
      "cell_type": "markdown",
      "source": [
        "# **Q11. What is memory management in Python**"
      ],
      "metadata": {
        "id": "-1p6TUdydobB"
      }
    },
    {
      "cell_type": "markdown",
      "source": [
        "Memory management in Python is handled automatically using **garbage collection** and **reference counting**. Python’s memory manager allocates memory for objects dynamically and deallocates it when they are no longer needed.  \n",
        "\n",
        "- **Reference Counting**: Tracks the number of references to an object; when it reaches zero, the object is deleted.  \n",
        "- **Garbage Collection**: Removes cyclic references (objects referring to each other) using the `gc` module.  \n",
        "- **Memory Allocation**: Python uses private heaps and the **PyObject** allocator for efficient memory handling.  \n",
        "- **Optimization**: Techniques like object pooling and caching (e.g., small integers) improve performance and reduce fragmentation."
      ],
      "metadata": {
        "id": "fXZVaA46d7tD"
      }
    },
    {
      "cell_type": "markdown",
      "source": [
        "# **Q12. What are the basic steps involved in exception handling in Python**"
      ],
      "metadata": {
        "id": "wzfvTJBceFrn"
      }
    },
    {
      "cell_type": "markdown",
      "source": [
        "1. **Try Block**: Place the code that may cause an exception inside a `try` block.  \n",
        "2. **Except Block**: Handle specific exceptions using `except`.  \n",
        "3. **Multiple Exceptions**: Use multiple `except` blocks or a tuple to catch different errors.  \n",
        "4. **Else Block (Optional)**: Runs if no exceptions occur.  \n",
        "5. **Finally Block (Optional)**: Executes cleanup code regardless of exceptions.  \n",
        "\n",
        "\n"
      ],
      "metadata": {
        "id": "johp10t4eU42"
      }
    },
    {
      "cell_type": "code",
      "source": [
        "try:\n",
        "    x = 1 / 0\n",
        "except ZeroDivisionError:\n",
        "    print(\"Cannot divide by zero!\")\n",
        "finally:\n",
        "    print(\"Execution completed.\")\n"
      ],
      "metadata": {
        "colab": {
          "base_uri": "https://localhost:8080/"
        },
        "id": "wqBwyp3mfNyk",
        "outputId": "b2ed6f7f-6b2a-471f-f6c7-9321bb2febde"
      },
      "execution_count": null,
      "outputs": [
        {
          "output_type": "stream",
          "name": "stdout",
          "text": [
            "Cannot divide by zero!\n",
            "Execution completed.\n"
          ]
        }
      ]
    },
    {
      "cell_type": "markdown",
      "source": [
        "# **Q13. Why is memory management important in Python**"
      ],
      "metadata": {
        "id": "hr6x4JGjflWd"
      }
    },
    {
      "cell_type": "markdown",
      "source": [
        "Memory management in Python is crucial for efficient resource utilization, preventing memory leaks, and ensuring optimal performance. It automates allocation and deallocation using **reference counting** and **garbage collection**, reducing manual effort. Proper memory handling improves program stability, avoids crashes, and enhances scalability. Python optimizes memory usage through object reuse, private heaps, and caching techniques, making applications run smoothly while minimizing unnecessary memory consumption."
      ],
      "metadata": {
        "id": "gQTDP5Cof_EE"
      }
    },
    {
      "cell_type": "markdown",
      "source": [
        "# **Q14. What is the role of try and except in exception handling**"
      ],
      "metadata": {
        "id": "ykKVZmBegKMB"
      }
    },
    {
      "cell_type": "markdown",
      "source": [
        "In Python, `try` and `except` are used for handling exceptions and preventing program crashes.  \n",
        "\n",
        "- **`try` block**: Contains code that may raise an exception.  \n",
        "- **`except` block**: Catches and handles specific errors gracefully.  \n",
        "\n"
      ],
      "metadata": {
        "id": "c8w8P6NvgYgI"
      }
    },
    {
      "cell_type": "code",
      "source": [
        "try:\n",
        "    x = 1 / 0\n",
        "except ZeroDivisionError:\n",
        "    print(\"Cannot divide by zero!\")\n"
      ],
      "metadata": {
        "colab": {
          "base_uri": "https://localhost:8080/"
        },
        "id": "3OQSklLDglY1",
        "outputId": "e2712fdf-aa72-4d8c-cf22-cf8acab6cba7"
      },
      "execution_count": null,
      "outputs": [
        {
          "output_type": "stream",
          "name": "stdout",
          "text": [
            "Cannot divide by zero!\n"
          ]
        }
      ]
    },
    {
      "cell_type": "markdown",
      "source": [
        "This ensures errors are managed properly, allowing smooth program execution."
      ],
      "metadata": {
        "id": "09MiZO0zgyt-"
      }
    },
    {
      "cell_type": "markdown",
      "source": [
        "# **Q15 How does Python's garbage collection system work**"
      ],
      "metadata": {
        "id": "M-RbEzJEg0hw"
      }
    },
    {
      "cell_type": "markdown",
      "source": [
        "Python’s garbage collection system automatically manages memory by removing unused objects. It uses **reference counting**, where an object is deleted when its reference count reaches zero. For cyclic references, Python employs **garbage collection (gc module)**, which detects and removes unreachable objects. The memory manager optimizes allocation using private heaps and caching. Developers can manually trigger garbage collection using `gc.collect()` to free up memory when needed.\n",
        "\n"
      ],
      "metadata": {
        "id": "4pZe8YtshJ8b"
      }
    },
    {
      "cell_type": "markdown",
      "source": [
        "# **Q16. What is the purpose of the else block in exception handling**"
      ],
      "metadata": {
        "id": "gti5-6C3kyTd"
      }
    },
    {
      "cell_type": "markdown",
      "source": [
        "The else block in Python’s exception handling runs only if no exceptions occur in the try block. It is useful for executing code that should only run when no errors are encountered."
      ],
      "metadata": {
        "id": "dQ8twphClA1W"
      }
    },
    {
      "cell_type": "code",
      "source": [
        "try:\n",
        "    x = 10 / 2\n",
        "except ZeroDivisionError:\n",
        "    print(\"Cannot divide by zero!\")\n",
        "else:\n",
        "    print(\"Division successful!\")\n"
      ],
      "metadata": {
        "colab": {
          "base_uri": "https://localhost:8080/"
        },
        "id": "E1YPVSrvlcrA",
        "outputId": "2494400c-e222-4906-c930-70e6eefc8ae1"
      },
      "execution_count": null,
      "outputs": [
        {
          "output_type": "stream",
          "name": "stdout",
          "text": [
            "Division successful!\n"
          ]
        }
      ]
    },
    {
      "cell_type": "markdown",
      "source": [
        "This helps separate error-handling logic from normal execution, improving code clarity."
      ],
      "metadata": {
        "id": "YrLPbmL6l5gy"
      }
    },
    {
      "cell_type": "markdown",
      "source": [
        "# **Q17. What are the common logging levels in Python**"
      ],
      "metadata": {
        "id": "sGD8UoGhl-la"
      }
    },
    {
      "cell_type": "markdown",
      "source": [
        "Python’s `logging` module has five common logging levels:  \n",
        "\n",
        "1. **DEBUG** – Detailed diagnostic information for debugging.  \n",
        "2. **INFO** – General information about program execution.  \n",
        "3. **WARNING** – Alerts about potential issues that don’t stop execution.  \n",
        "4. **ERROR** – Logs errors that prevent normal program flow.  \n",
        "5. **CRITICAL** – Logs severe errors causing program failure.  \n"
      ],
      "metadata": {
        "id": "Msgy-pxVmjNL"
      }
    },
    {
      "cell_type": "code",
      "source": [
        "import logging\n",
        "logging.basicConfig(level=logging.INFO)\n",
        "logging.warning(\"This is a warning!\")\n"
      ],
      "metadata": {
        "colab": {
          "base_uri": "https://localhost:8080/"
        },
        "id": "cuW8FhC9mwnt",
        "outputId": "48fec53e-25f9-4828-f81e-a304bea2c5ab"
      },
      "execution_count": null,
      "outputs": [
        {
          "output_type": "stream",
          "name": "stderr",
          "text": [
            "WARNING:root:This is a warning!\n"
          ]
        }
      ]
    },
    {
      "cell_type": "markdown",
      "source": [
        "These levels help manage log importance and filtering.\n",
        "\n",
        "\n",
        "\n",
        "\n",
        "\n",
        "\n",
        "\n"
      ],
      "metadata": {
        "id": "pGDnRzbem3m8"
      }
    },
    {
      "cell_type": "markdown",
      "source": [
        "# **Q18. What is the difference between os.fork() and multiprocessing in Python**"
      ],
      "metadata": {
        "id": "bAXNp06pm-V0"
      }
    },
    {
      "cell_type": "markdown",
      "source": [
        "- **Definition**:  \n",
        "  - `os.fork()`: Creates a child process by duplicating the parent process.  \n",
        "  - `multiprocessing`: Creates separate processes using the `multiprocessing` module.  \n",
        "\n",
        "- **Platform Support**:  \n",
        "  - `os.fork()`: Unix/Linux only.  \n",
        "  - `multiprocessing`: Cross-platform (Windows, macOS, Linux).  \n",
        "\n",
        "- **Memory Sharing**:  \n",
        "  - `os.fork()`: Child shares memory with the parent (Copy-on-Write).  \n",
        "  - `multiprocessing`: Each process has independent memory.  \n",
        "\n",
        "- **Use Case**:  \n",
        "  - `os.fork()`: Low-level process creation.  \n",
        "  - `multiprocessing`: High-level parallel execution with better control.  \n",
        "\n"
      ],
      "metadata": {
        "id": "pg38OP_znXZX"
      }
    },
    {
      "cell_type": "code",
      "source": [
        "import os\n",
        "pid = os.fork()\n"
      ],
      "metadata": {
        "id": "OrNivFyYpQ1z"
      },
      "execution_count": null,
      "outputs": []
    },
    {
      "cell_type": "markdown",
      "source": [
        "# **Q19. What is the importance of closing a file in Python**"
      ],
      "metadata": {
        "id": "HwZbAaZTpZtz"
      }
    },
    {
      "cell_type": "markdown",
      "source": [
        "Closing a file in Python is crucial to free system resources, prevent data corruption, and ensure changes are saved properly. When a file remains open, it consumes memory and may cause issues like file locking or data loss. Using file.close() or the with statement ensures proper file closure."
      ],
      "metadata": {
        "id": "h9-8zbyFpksI"
      }
    },
    {
      "cell_type": "code",
      "source": [
        "with open(\"file.txt\", \"r\") as file:\n",
        "    content = file.read()  # Automatically closes the file\n"
      ],
      "metadata": {
        "id": "Tv0g-nmEp4su"
      },
      "execution_count": null,
      "outputs": []
    },
    {
      "cell_type": "markdown",
      "source": [
        "# **Q20. What is the difference between file.read() and file.readline() in Python**"
      ],
      "metadata": {
        "id": "gaj_3nQIp8LK"
      }
    },
    {
      "cell_type": "markdown",
      "source": [
        "In Python, `file.read()` and `file.readline()` are methods to read from a file, but they differ in functionality:\n",
        "\n",
        "- **Scope**: `file.read()` reads the entire file content as a single string, while `file.readline()` reads only the next line.\n",
        "- **Return Value**: `file.read()` returns all text up to the end of the file; `file.readline()` returns a string up to and including the newline character (`\\n`).\n",
        "- **Use Case**: Use `file.read()` for small files or full content processing; use `file.readline()` for line-by-line reading, like parsing large files.\n",
        "- **End of File**: Both return an empty string when the file ends."
      ],
      "metadata": {
        "id": "ggn2E-L7sNx5"
      }
    },
    {
      "cell_type": "markdown",
      "source": [
        "# **Q21. What is the logging module in Python used for**"
      ],
      "metadata": {
        "id": "9Oc21QIetLaX"
      }
    },
    {
      "cell_type": "markdown",
      "source": [
        "The `logging` module in Python is used to track and record events during program execution for debugging, monitoring, and auditing purposes. It provides a flexible way to log messages with varying severity levels: DEBUG, INFO, WARNING, ERROR, and CRITICAL. Key features include:\n",
        "\n",
        "- **Customizable Output**: Log to console, files, or remote servers.\n",
        "- **Severity Levels**: Filter messages based on importance.\n",
        "- **Timestamps & Metadata**: Automatically add context like time or source.\n",
        "- **Better than Print**: Unlike `print()`, it’s configurable and persistent.\n",
        "\n",
        "It’s widely used in applications to diagnose issues, monitor runtime behavior, and maintain logs for analysis."
      ],
      "metadata": {
        "id": "7wCo9Oq-t2bJ"
      }
    },
    {
      "cell_type": "markdown",
      "source": [
        "# **Q22.  What is the os module in Python used for in file handling0**"
      ],
      "metadata": {
        "id": "Xq_ua7DpuRhN"
      }
    },
    {
      "cell_type": "markdown",
      "source": [
        "The `os` module in Python facilitates file handling by providing low-level access to operating system functionalities. It enables opening files with `os.open()`, returning file descriptors for reading (`os.read()`) or writing (`os.write()`), ideal for system-level operations. It also supports file system tasks like checking existence (`os.path.exists()`), renaming (`os.rename()`), or deleting (`os.remove()`) files. The `os.path` submodule ensures cross-platform path manipulation, such as joining paths (`os.path.join()`) or extracting directories (`os.path.dirname()`). While `open()` is simpler for general use, `os` excels in precise control and portability, making it essential for advanced file handling and system programming."
      ],
      "metadata": {
        "id": "fieUYU43veEn"
      }
    },
    {
      "cell_type": "markdown",
      "source": [
        "# **Q23. What are the challenges associated with memory management in Python**"
      ],
      "metadata": {
        "id": "Fz-BZ3b5viqc"
      }
    },
    {
      "cell_type": "markdown",
      "source": [
        "Memory management in Python poses several challenges:\n",
        "\n",
        "- **Automatic Garbage Collection**: Python uses reference counting and a cyclic garbage collector, which can delay memory deallocation for circular references, leading to memory leaks.\n",
        "- **No Manual Control**: Developers lack direct memory management, complicating optimization in performance-critical applications.\n",
        "- **Object Overhead**: Python objects (e.g., lists, dictionaries) have high memory overhead due to dynamic typing and metadata.\n",
        "- **Global Interpreter Lock (GIL)**: In CPython, GIL limits multi-threading, impacting memory efficiency in concurrent programs.\n",
        "- **Memory Fragmentation**: Frequent allocations/deallocations can fragment memory, reducing efficiency.\n",
        "- **Third-Party Libraries**: C extensions may introduce unmanaged memory issues, requiring careful handling."
      ],
      "metadata": {
        "id": "XGksnF-lwBRn"
      }
    },
    {
      "cell_type": "markdown",
      "source": [
        "# **Q24. How do you raise an exception manually in Python**"
      ],
      "metadata": {
        "id": "izHTOnsXwGpi"
      }
    },
    {
      "cell_type": "markdown",
      "source": [
        "In Python, you can manually raise an exception using the raise keyword. This is useful for handling specific errors or enforcing conditions in your code."
      ],
      "metadata": {
        "id": "N2AkOM5MwSyq"
      }
    },
    {
      "cell_type": "code",
      "source": [
        "raise Exception(\"Custom error message\")\n"
      ],
      "metadata": {
        "id": "AZTpxJeiwsZL"
      },
      "execution_count": null,
      "outputs": []
    },
    {
      "cell_type": "code",
      "source": [
        "age = -5\n",
        "if age < 0:\n",
        "    raise ValueError(\"Age cannot be negative\")\n"
      ],
      "metadata": {
        "id": "wCBp7PHLw-1t"
      },
      "execution_count": null,
      "outputs": []
    },
    {
      "cell_type": "markdown",
      "source": [
        "You can also raise built-in exceptions like TypeError, ZeroDivisionError, or create custom exceptions by subclassing Exception:"
      ],
      "metadata": {
        "id": "pkz51pQJxKaU"
      }
    },
    {
      "cell_type": "code",
      "source": [
        "class MyError(Exception):\n",
        "    pass\n",
        "\n",
        "raise MyError(\"This is a custom exception\")\n"
      ],
      "metadata": {
        "id": "A1posGa-xW9h"
      },
      "execution_count": null,
      "outputs": []
    },
    {
      "cell_type": "markdown",
      "source": [
        "# **Q25. Why is it important to use multithreading in certain applications?**"
      ],
      "metadata": {
        "id": "2Ivgw7rTximr"
      }
    },
    {
      "cell_type": "markdown",
      "source": [
        "Multithreading is important for improving performance in **I/O-bound** applications, such as web scraping, file handling, and network communication. It allows multiple tasks to run concurrently within a single process, utilizing idle CPU time efficiently. Multithreading enhances responsiveness in GUI applications and servers, preventing them from freezing. However, due to Python’s **Global Interpreter Lock (GIL)**, it is less effective for CPU-bound tasks, where multiprocessing is preferred."
      ],
      "metadata": {
        "id": "kq5k1yclxqeH"
      }
    },
    {
      "cell_type": "markdown",
      "source": [
        "# **PRACTICAL QUESTION**"
      ],
      "metadata": {
        "id": "OujjYctzxzSG"
      }
    },
    {
      "cell_type": "markdown",
      "source": [
        "# **Q1.How can you open a file for writing in Python and write a string to it**"
      ],
      "metadata": {
        "id": "01zrp0sLQOGK"
      }
    },
    {
      "cell_type": "code",
      "source": [
        "# Open the file in write mode\n",
        "with open(\"example.txt\", \"w\") as file:\n",
        "    file.write(\"Hello, this is a test string!\")\n",
        "\n",
        "print(\"File written successfully.\")\n"
      ],
      "metadata": {
        "colab": {
          "base_uri": "https://localhost:8080/"
        },
        "id": "-jK3Q-S6Qzeq",
        "outputId": "a2fbd662-6562-464d-a3ad-5e54b1eb5809"
      },
      "execution_count": null,
      "outputs": [
        {
          "output_type": "stream",
          "name": "stdout",
          "text": [
            "File written successfully.\n"
          ]
        }
      ]
    },
    {
      "cell_type": "markdown",
      "source": [
        "# **Q2. Write a Python program to read the contents of a file and print each line**"
      ],
      "metadata": {
        "id": "jFaDee_wQ9fT"
      }
    },
    {
      "cell_type": "code",
      "source": [
        "# Open the file in read mode\n",
        "with open(\"example.txt\", \"r\") as file:\n",
        "    for line in file:\n",
        "        print(line.strip())  # strip() removes extra whitespace and newlines\n"
      ],
      "metadata": {
        "colab": {
          "base_uri": "https://localhost:8080/"
        },
        "id": "6057xsxJRNrc",
        "outputId": "bfce1814-70e9-4596-a18d-fff5e0c3b50a"
      },
      "execution_count": null,
      "outputs": [
        {
          "output_type": "stream",
          "name": "stdout",
          "text": [
            "Hello, this is a test string!\n"
          ]
        }
      ]
    },
    {
      "cell_type": "markdown",
      "source": [
        "# **Q3. How would you handle a case where the file doesn't exist while trying to open it for reading**"
      ],
      "metadata": {
        "id": "bEZ7JlyIRb1t"
      }
    },
    {
      "cell_type": "code",
      "source": [
        "try:\n",
        "    with open(\"example.txt\", \"r\") as file:\n",
        "        for line in file:\n",
        "            print(line.strip())  # Remove extra whitespace and newlines\n",
        "except FileNotFoundError:\n",
        "    print(\"Error: The file does not exist.\")\n"
      ],
      "metadata": {
        "colab": {
          "base_uri": "https://localhost:8080/"
        },
        "id": "o6jPvoTkRqzZ",
        "outputId": "cd24f0fd-9091-40b0-ce51-521d854568a5"
      },
      "execution_count": null,
      "outputs": [
        {
          "output_type": "stream",
          "name": "stdout",
          "text": [
            "Hello, this is a test string!\n"
          ]
        }
      ]
    },
    {
      "cell_type": "markdown",
      "source": [
        "# **Q4. Write a Python script that reads from one file and writes its content to another file**"
      ],
      "metadata": {
        "id": "Hp8uQIpZR14T"
      }
    },
    {
      "cell_type": "code",
      "source": [
        "# Define source and destination file names\n",
        "source_file = \"source.txt\"\n",
        "destination_file = \"destination.txt\"\n",
        "\n",
        "try:\n",
        "    # Open source file for reading and destination file for writing\n",
        "    with open(source_file, \"r\") as src, open(destination_file, \"w\") as dest:\n",
        "        for line in src:\n",
        "            dest.write(line)\n",
        "\n",
        "    print(f\"Contents copied from {source_file} to {destination_file} successfully.\")\n",
        "\n",
        "except FileNotFoundError:\n",
        "    print(f\"Error: {source_file} not found.\")\n",
        "except Exception as e:\n",
        "    print(f\"An error occurred: {e}\")\n"
      ],
      "metadata": {
        "colab": {
          "base_uri": "https://localhost:8080/"
        },
        "id": "WM9h4deHR1PX",
        "outputId": "f2f97f79-9381-480e-9b3c-de80f8bcfaa7"
      },
      "execution_count": null,
      "outputs": [
        {
          "output_type": "stream",
          "name": "stdout",
          "text": [
            "Error: source.txt not found.\n"
          ]
        }
      ]
    },
    {
      "cell_type": "markdown",
      "source": [
        "# **Q5. How would you catch and handle division by zero error in Python**"
      ],
      "metadata": {
        "id": "IUEo19meSKyF"
      }
    },
    {
      "cell_type": "code",
      "source": [
        "def divide_numbers(numerator, denominator):\n",
        "    try:\n",
        "        result = numerator / denominator\n",
        "        return result\n",
        "    except ZeroDivisionError:\n",
        "        print(\"Error: Cannot divide by zero.\")\n",
        "        return None\n",
        "\n",
        "# Usage\n",
        "numerator = 10\n",
        "denominator = 0\n",
        "print(divide_numbers(numerator, denominator))\n"
      ],
      "metadata": {
        "colab": {
          "base_uri": "https://localhost:8080/"
        },
        "id": "i4u7yXcdsFaW",
        "outputId": "ab65018d-fb2e-4163-e235-fdd492bf6bda"
      },
      "execution_count": null,
      "outputs": [
        {
          "output_type": "stream",
          "name": "stdout",
          "text": [
            "Error: Cannot divide by zero.\n",
            "None\n"
          ]
        }
      ]
    },
    {
      "cell_type": "markdown",
      "source": [
        "# **Q6. Write a Python program that logs an error message to a log file when a division by zero exception occurs**"
      ],
      "metadata": {
        "id": "v1ykOe-lshNW"
      }
    },
    {
      "cell_type": "code",
      "source": [
        "import logging\n",
        "\n",
        "# Configure logging to write to a file with error level\n",
        "logging.basicConfig(filename='error.log', level=logging.ERROR,\n",
        "                    format='%(asctime)s - %(levelname)s - %(message)s')\n",
        "\n",
        "def divide_numbers(numerator, denominator):\n",
        "    try:\n",
        "        result = numerator / denominator\n",
        "        return result\n",
        "    except ZeroDivisionError:\n",
        "        logging.error(\"Attempted to divide by zero. Numerator: %s, Denominator: %s\", numerator, denominator)\n",
        "        return None\n",
        "\n",
        "# Example usage\n",
        "numerator = 10\n",
        "denominator = 0\n",
        "result = divide_numbers(numerator, denominator)\n",
        "\n",
        "if result is None:\n",
        "    print(\"An error occurred. Check the log file for details.\")\n",
        "else:\n",
        "    print(f\"The result is {result}\")\n"
      ],
      "metadata": {
        "colab": {
          "base_uri": "https://localhost:8080/"
        },
        "id": "hD6WAmsssuB7",
        "outputId": "a7a4a483-76aa-4fbc-d231-8e2f52eaf940"
      },
      "execution_count": null,
      "outputs": [
        {
          "output_type": "stream",
          "name": "stderr",
          "text": [
            "ERROR:root:Attempted to divide by zero. Numerator: 10, Denominator: 0\n"
          ]
        },
        {
          "output_type": "stream",
          "name": "stdout",
          "text": [
            "An error occurred. Check the log file for details.\n"
          ]
        }
      ]
    },
    {
      "cell_type": "markdown",
      "source": [
        "# **Q7.  How do you log information at different levels (INFO, ERROR, WARNING) in Python using the logging module**"
      ],
      "metadata": {
        "id": "nm2Rl--YtGIS"
      }
    },
    {
      "cell_type": "code",
      "source": [
        "import logging\n",
        "\n",
        "# Configure the logging system\n",
        "logging.basicConfig(level=logging.DEBUG,\n",
        "                    format='%(asctime)s - %(levelname)s - %(message)s',\n",
        "                    handlers=[\n",
        "                        logging.FileHandler('app.log'),\n",
        "                        logging.StreamHandler()\n",
        "                    ])\n",
        "\n",
        "# Log messages at different severity levels\n",
        "logging.debug('This is a DEBUG message')\n",
        "logging.info('This is an INFO message')\n",
        "logging.warning('This is a WARNING message')\n",
        "logging.error('This is an ERROR message')\n",
        "logging.critical('This is a CRITICAL message')\n"
      ],
      "metadata": {
        "colab": {
          "base_uri": "https://localhost:8080/"
        },
        "id": "HLxiyfsKtpgM",
        "outputId": "5aaa3f43-dbf7-4134-a1ff-eb9538ed6083"
      },
      "execution_count": null,
      "outputs": [
        {
          "output_type": "stream",
          "name": "stderr",
          "text": [
            "WARNING:root:This is a WARNING message\n",
            "ERROR:root:This is an ERROR message\n",
            "CRITICAL:root:This is a CRITICAL message\n"
          ]
        }
      ]
    },
    {
      "cell_type": "markdown",
      "source": [
        "# **Q8. Write a program to handle a file opening error using exception handling**"
      ],
      "metadata": {
        "id": "dC8PL2ujttt7"
      }
    },
    {
      "cell_type": "code",
      "source": [
        "import logging\n",
        "\n",
        "# Configure logging to write to a file with error level\n",
        "logging.basicConfig(filename='file_errors.log', level=logging.ERROR,\n",
        "                    format='%(asctime)s - %(levelname)s - %(message)s')\n",
        "\n",
        "def read_file(file_path):\n",
        "    try:\n",
        "        with open(file_path, 'r') as file:\n",
        "            content = file.read()\n",
        "            return content\n",
        "    except FileNotFoundError:\n",
        "        logging.error(\"File not found: %s\", file_path)\n",
        "        return None\n",
        "    except PermissionError:\n",
        "        logging.error(\"Permission denied: %s\", file_path)\n",
        "        return None\n",
        "    except IOError as e:\n",
        "        logging.error(\"I/O error(%s): %s\", e.errno, e.strerror)\n",
        "        return None\n",
        "\n",
        "# Example usage\n",
        "file_path = 'example.txt'\n",
        "content = read_file(file_path)\n",
        "\n",
        "if content is None:\n",
        "    print(\"An error occurred while opening the file. Check the log file for details.\")\n",
        "else:\n",
        "    print(content)\n"
      ],
      "metadata": {
        "colab": {
          "base_uri": "https://localhost:8080/"
        },
        "id": "xQgRC1U3t6E9",
        "outputId": "f4a488f5-c341-47bd-cd5c-117d09cf601e"
      },
      "execution_count": null,
      "outputs": [
        {
          "output_type": "stream",
          "name": "stderr",
          "text": [
            "ERROR:root:File not found: example.txt\n"
          ]
        },
        {
          "output_type": "stream",
          "name": "stdout",
          "text": [
            "An error occurred while opening the file. Check the log file for details.\n"
          ]
        }
      ]
    },
    {
      "cell_type": "markdown",
      "source": [
        "# **Q9. How can you read a file line by line and store its content in a list in Python**"
      ],
      "metadata": {
        "id": "3sgHSv6NuGCv"
      }
    },
    {
      "source": [
        " #Using readlines()\n",
        "try:\n",
        "    with open('filename.txt', 'r') as file:\n",
        "        lines = file.readlines()\n",
        "except FileNotFoundError:\n",
        "    print(\"Error: The file 'filename.txt' does not exist in the current directory.\")\n",
        "\n"
      ],
      "cell_type": "code",
      "metadata": {
        "colab": {
          "base_uri": "https://localhost:8080/"
        },
        "id": "_fnnKyHgulbM",
        "outputId": "b1bbaea4-0176-4363-f0a9-24fec86885a2"
      },
      "execution_count": null,
      "outputs": [
        {
          "output_type": "stream",
          "name": "stdout",
          "text": [
            "Error: The file 'filename.txt' does not exist in the current directory.\n"
          ]
        }
      ]
    },
    {
      "cell_type": "markdown",
      "source": [
        "# **Q10.  How can you append data to an existing file in Python**"
      ],
      "metadata": {
        "id": "2S-l_2KyvNMw"
      }
    },
    {
      "cell_type": "code",
      "source": [
        "# Open the file in append mode\n",
        "with open('filename.txt', 'a') as file:\n",
        "    # Write the data to the file\n",
        "    file.write('This is the appended data.\\n')\n"
      ],
      "metadata": {
        "id": "_RysExmivjNu"
      },
      "execution_count": null,
      "outputs": []
    },
    {
      "cell_type": "markdown",
      "source": [
        "# **Q11. Write a Python program that uses a try-except block to handle an error when attempting to access adictionary key that doesn't exist  .**"
      ],
      "metadata": {
        "id": "J5L7ueGlvtwd"
      }
    },
    {
      "cell_type": "code",
      "source": [
        "# Sample dictionary\n",
        "person = {'name': 'Alice', 'age': 30}\n",
        "\n",
        "# Attempt to access a key that may not exist\n",
        "try:\n",
        "    address = person['address']\n",
        "except KeyError:\n",
        "    address = 'Address not available'\n",
        "\n",
        "print(address)\n"
      ],
      "metadata": {
        "colab": {
          "base_uri": "https://localhost:8080/"
        },
        "id": "z4TCTkNDvtIc",
        "outputId": "d1582be7-91ac-4385-b156-418ec07d1608"
      },
      "execution_count": null,
      "outputs": [
        {
          "output_type": "stream",
          "name": "stdout",
          "text": [
            "Address not available\n"
          ]
        }
      ]
    },
    {
      "cell_type": "markdown",
      "source": [
        "# **Q12.  Write a program that demonstrates using multiple except blocks to handle different types of exceptions**"
      ],
      "metadata": {
        "id": "p2uqJHt_xN-o"
      }
    },
    {
      "cell_type": "code",
      "source": [
        "try:\n",
        "    # Attempt to perform operations that may raise exceptions\n",
        "    numerator = int(input(\"Enter the numerator: \"))\n",
        "    denominator = int(input(\"Enter the denominator: \"))\n",
        "    result = numerator / denominator\n",
        "    print(f\"The result is {result}\")\n",
        "except ValueError as ve:\n",
        "    # Handle errors related to invalid integer conversion\n",
        "    print(f\"ValueError: Invalid input. Please enter valid integers. ({ve})\")\n",
        "except ZeroDivisionError as zde:\n",
        "    # Handle division by zero errors\n",
        "    print(f\"ZeroDivisionError: Cannot divide by zero. ({zde})\")\n",
        "except Exception as e:\n",
        "    # Handle any other unforeseen exceptions\n",
        "    print(f\"An unexpected error occurred: {e}\")\n"
      ],
      "metadata": {
        "colab": {
          "base_uri": "https://localhost:8080/"
        },
        "id": "maU5d5RlxRyO",
        "outputId": "f9882c11-47dd-46c3-8a8f-7ec93eed8ece"
      },
      "execution_count": null,
      "outputs": [
        {
          "output_type": "stream",
          "name": "stdout",
          "text": [
            "Enter the numerator: 5\n",
            "Enter the denominator: 0\n",
            "ZeroDivisionError: Cannot divide by zero. (division by zero)\n"
          ]
        }
      ]
    },
    {
      "cell_type": "markdown",
      "source": [
        "# **Q13.  How would you check if a file exists before attempting to read it in Python**"
      ],
      "metadata": {
        "id": "44gCP-SfyEf_"
      }
    },
    {
      "cell_type": "code",
      "source": [
        "import os\n",
        "\n",
        "file_path = 'example.txt'\n",
        "\n",
        "# Check if the path exists and is a file\n",
        "if os.path.exists(file_path) and os.path.isfile(file_path):\n",
        "    with open(file_path, 'r') as file:\n",
        "        content = file.read()\n",
        "        print(content)\n",
        "else:\n",
        "    print(f\"The file '{file_path}' does not exist.\")\n"
      ],
      "metadata": {
        "colab": {
          "base_uri": "https://localhost:8080/"
        },
        "id": "9HU4s55nyQoP",
        "outputId": "a455111a-132e-4752-fd55-feab895116ec"
      },
      "execution_count": null,
      "outputs": [
        {
          "output_type": "stream",
          "name": "stdout",
          "text": [
            "The file 'example.txt' does not exist.\n"
          ]
        }
      ]
    },
    {
      "cell_type": "markdown",
      "source": [
        "# **Q14. Write a program that uses the logging module to log both informational and error messages**"
      ],
      "metadata": {
        "id": "Cz_b88WLyY__"
      }
    },
    {
      "cell_type": "code",
      "source": [
        "import logging\n",
        "\n",
        "# Configure the logging system\n",
        "logging.basicConfig(\n",
        "    filename='app.log',\n",
        "    filemode='a',  # Append mode\n",
        "    level=logging.DEBUG,  # Capture all levels of log messages\n",
        "    format='%(asctime)s - %(levelname)s - %(message)s'\n",
        ")\n",
        "\n",
        "# Create a logger object\n",
        "logger = logging.getLogger(__name__)\n",
        "\n",
        "# Log an informational message\n",
        "logger.info('This is an informational message.')\n",
        "\n",
        "# Log an error message\n",
        "try:\n",
        "    result = 10 / 0\n",
        "except ZeroDivisionError as e:\n",
        "    logger.error('An error occurred: %s', e)\n"
      ],
      "metadata": {
        "colab": {
          "base_uri": "https://localhost:8080/"
        },
        "id": "bG8ruKzUyhZy",
        "outputId": "f76178aa-29ef-4fff-9267-92ef1705b8fe"
      },
      "execution_count": null,
      "outputs": [
        {
          "output_type": "stream",
          "name": "stderr",
          "text": [
            "ERROR:__main__:An error occurred: division by zero\n"
          ]
        }
      ]
    },
    {
      "cell_type": "markdown",
      "source": [
        "# **Q15. Write a Python program that prints the content of a file and handles the case when the file is empty**"
      ],
      "metadata": {
        "id": "kcs0oz_AyrrO"
      }
    },
    {
      "cell_type": "code",
      "source": [
        "import os\n",
        "\n",
        "def print_file_content(file_path):\n",
        "    try:\n",
        "        # Check if the file exists\n",
        "        if not os.path.isfile(file_path):\n",
        "            print(f\"The file '{file_path}' does not exist.\")\n",
        "            return\n",
        "\n",
        "        # Check if the file is empty\n",
        "        if os.path.getsize(file_path) == 0:\n",
        "            print(f\"The file '{file_path}' is empty.\")\n",
        "            return\n",
        "\n",
        "        # Open and read the file\n",
        "        with open(file_path, 'r') as file:\n",
        "            content = file.read()\n",
        "            print(\"File Content:\")\n",
        "            print(content)\n",
        "\n",
        "    except Exception as e:\n",
        "        print(f\"An error occurred: {e}\")\n",
        "\n",
        "# Example usage\n",
        "file_path = 'example.txt'\n",
        "print_file_content(file_path)\n"
      ],
      "metadata": {
        "colab": {
          "base_uri": "https://localhost:8080/"
        },
        "id": "BubJo0XVy16F",
        "outputId": "84519e6f-c707-46e9-83f9-7081437b9f38"
      },
      "execution_count": null,
      "outputs": [
        {
          "output_type": "stream",
          "name": "stdout",
          "text": [
            "The file 'example.txt' does not exist.\n"
          ]
        }
      ]
    },
    {
      "cell_type": "markdown",
      "source": [
        "# **Q16. Demonstrate how to use memory profiling to check the memory usage of a small program**"
      ],
      "metadata": {
        "id": "xOR4H_KozA_a"
      }
    },
    {
      "source": [
        "!pip install memory_profiler\n",
        "from memory_profiler import profile\n",
        "\n",
        "@profile\n",
        "def create_large_list():\n",
        "    # Create a large list to simulate memory usage\n",
        "    large_list = [i for i in range(1000000)]\n",
        "    return large_list\n",
        "\n",
        "if __name__ == \"__main__\":\n",
        "    create_large_list()"
      ],
      "cell_type": "code",
      "metadata": {
        "colab": {
          "base_uri": "https://localhost:8080/"
        },
        "id": "DSOqVcb0zvDp",
        "outputId": "0b03bea9-597a-4c62-a860-dcdc710069be"
      },
      "execution_count": null,
      "outputs": [
        {
          "output_type": "stream",
          "name": "stdout",
          "text": [
            "Collecting memory_profiler\n",
            "  Downloading memory_profiler-0.61.0-py3-none-any.whl.metadata (20 kB)\n",
            "Requirement already satisfied: psutil in /usr/local/lib/python3.11/dist-packages (from memory_profiler) (5.9.5)\n",
            "Downloading memory_profiler-0.61.0-py3-none-any.whl (31 kB)\n",
            "Installing collected packages: memory_profiler\n",
            "Successfully installed memory_profiler-0.61.0\n"
          ]
        },
        {
          "output_type": "stream",
          "name": "stderr",
          "text": [
            "\n",
            "PYDEV DEBUGGER WARNING:\n",
            "sys.settrace() should not be used when the debugger is being used.\n",
            "This may cause the debugger to stop working correctly.\n",
            "If this is needed, please check: \n",
            "http://pydev.blogspot.com/2007/06/why-cant-pydev-debugger-work-with.html\n",
            "to see how to restore the debug tracing back correctly.\n",
            "Call Location:\n",
            "  File \"/usr/local/lib/python3.11/dist-packages/memory_profiler.py\", line 847, in enable\n",
            "    sys.settrace(self.trace_memory_usage)\n",
            "\n"
          ]
        },
        {
          "output_type": "stream",
          "name": "stdout",
          "text": [
            "ERROR: Could not find file <ipython-input-27-a0249015adcf>\n",
            "NOTE: %mprun can only be used on functions defined in physical files, and not in the IPython environment.\n"
          ]
        },
        {
          "output_type": "stream",
          "name": "stderr",
          "text": [
            "\n",
            "PYDEV DEBUGGER WARNING:\n",
            "sys.settrace() should not be used when the debugger is being used.\n",
            "This may cause the debugger to stop working correctly.\n",
            "If this is needed, please check: \n",
            "http://pydev.blogspot.com/2007/06/why-cant-pydev-debugger-work-with.html\n",
            "to see how to restore the debug tracing back correctly.\n",
            "Call Location:\n",
            "  File \"/usr/local/lib/python3.11/dist-packages/memory_profiler.py\", line 850, in disable\n",
            "    sys.settrace(self._original_trace_function)\n",
            "\n"
          ]
        }
      ]
    },
    {
      "cell_type": "markdown",
      "source": [
        "# **Q17. Write a Python program to create and write a list of numbers to a file, one number per line**"
      ],
      "metadata": {
        "id": "H2Te7jJU0Fi5"
      }
    },
    {
      "cell_type": "code",
      "source": [
        "# Define the list of numbers\n",
        "numbers = [1, 2, 3, 4, 5]\n",
        "\n",
        "# Specify the file path\n",
        "file_path = 'numbers.txt'\n",
        "\n",
        "# Open the file in write mode\n",
        "with open(file_path, 'w') as file:\n",
        "    # Iterate over each number in the list\n",
        "    for number in numbers:\n",
        "        # Write the number followed by a newline character\n",
        "        file.write(f\"{number}\\n\")\n",
        "\n",
        "print(f\"Numbers have been written to {file_path}\")\n"
      ],
      "metadata": {
        "colab": {
          "base_uri": "https://localhost:8080/"
        },
        "id": "ZlmOd6r_0S43",
        "outputId": "7e252ed9-670c-40da-e2a1-c496bd078e61"
      },
      "execution_count": null,
      "outputs": [
        {
          "output_type": "stream",
          "name": "stdout",
          "text": [
            "Numbers have been written to numbers.txt\n"
          ]
        }
      ]
    },
    {
      "cell_type": "markdown",
      "source": [
        "# **Q18. How would you implement a basic logging setup that logs to a file with rotation after 1 MB**"
      ],
      "metadata": {
        "id": "pkThzKN70egX"
      }
    },
    {
      "cell_type": "code",
      "source": [
        "import logging\n",
        "from logging.handlers import RotatingFileHandler\n",
        "\n",
        "# Create a logger object\n",
        "logger = logging.getLogger('my_logger')\n",
        "logger.setLevel(logging.DEBUG)  # Set the logging level\n",
        "\n",
        "# Create a rotating file handler\n",
        "handler = RotatingFileHandler(\n",
        "    'app.log',       # Log file name\n",
        "    maxBytes=1_000_000,  # Rotate after 1MB\n",
        "    backupCount=5    # Keep up to 5 backup files\n",
        ")\n",
        "\n",
        "# Create a formatter and set it for the handler\n",
        "formatter = logging.Formatter('%(asctime)s - %(levelname)s - %(message)s')\n",
        "handler.setFormatter(formatter)\n",
        "\n",
        "# Add the handler to the logger\n",
        "logger.addHandler(handler)\n",
        "\n",
        "# Example log messages\n",
        "logger.debug('Debug message')\n",
        "logger.info('Info message')\n",
        "logger.warning('Warning message')\n",
        "logger.error('Error message')\n",
        "logger.critical('Critical message')\n"
      ],
      "metadata": {
        "colab": {
          "base_uri": "https://localhost:8080/"
        },
        "id": "oLsWF_-z03K2",
        "outputId": "ad7797d0-afe7-4851-fe22-71fc982c420c"
      },
      "execution_count": null,
      "outputs": [
        {
          "output_type": "stream",
          "name": "stderr",
          "text": [
            "DEBUG:my_logger:Debug message\n",
            "INFO:my_logger:Info message\n",
            "WARNING:my_logger:Warning message\n",
            "ERROR:my_logger:Error message\n",
            "CRITICAL:my_logger:Critical message\n"
          ]
        }
      ]
    },
    {
      "cell_type": "markdown",
      "source": [
        "# **Q19. Write a program that handles both IndexError and KeyError using a try-except block**"
      ],
      "metadata": {
        "id": "Cic_xlls1B7i"
      }
    },
    {
      "cell_type": "code",
      "source": [
        "def handle_exceptions():\n",
        "    my_list = [1, 2, 3]\n",
        "    my_dict = {'a': 10, 'b': 20, 'c': 30}\n",
        "\n",
        "    try:\n",
        "        # Attempt to access the fourth element (index 3) of the list\n",
        "        list_element = my_list[3]\n",
        "        print(f'List element: {list_element}')\n",
        "\n",
        "        # Attempt to access the value for key 'd' in the dictionary\n",
        "        dict_value = my_dict['d']\n",
        "        print(f'Dictionary value: {dict_value}')\n",
        "\n",
        "    except IndexError as ie:\n",
        "        print(f'IndexError encountered: {ie}')\n",
        "    except KeyError as ke:\n",
        "        print(f'KeyError encountered: {ke}')\n",
        "\n",
        "# Execute the function\n",
        "handle_exceptions()\n"
      ],
      "metadata": {
        "colab": {
          "base_uri": "https://localhost:8080/"
        },
        "id": "WvS0xZD81LTT",
        "outputId": "174c45a1-3aa2-48da-b19b-f236fc065970"
      },
      "execution_count": null,
      "outputs": [
        {
          "output_type": "stream",
          "name": "stdout",
          "text": [
            "IndexError encountered: list index out of range\n"
          ]
        }
      ]
    },
    {
      "cell_type": "markdown",
      "source": [
        "# **Q20. How would you open a file and read its contents using a context manager in Python**"
      ],
      "metadata": {
        "id": "ye4RIyrf1VX6"
      }
    },
    {
      "cell_type": "code",
      "source": [
        "file_path = 'example.txt'\n",
        "\n",
        "try:\n",
        "    with open(file_path, 'r') as file:\n",
        "        content = file.read()\n",
        "        print(content)\n",
        "except FileNotFoundError:\n",
        "    print(f\"The file '{file_path}' does not exist.\")\n",
        "except IOError:\n",
        "    print(f\"An error occurred while reading the file '{file_path}'.\")\n"
      ],
      "metadata": {
        "colab": {
          "base_uri": "https://localhost:8080/"
        },
        "id": "4Tmnm_Q41jWJ",
        "outputId": "141f7516-72e3-44d9-e7f0-6cea5421f239"
      },
      "execution_count": null,
      "outputs": [
        {
          "output_type": "stream",
          "name": "stdout",
          "text": [
            "The file 'example.txt' does not exist.\n"
          ]
        }
      ]
    },
    {
      "cell_type": "markdown",
      "source": [
        "# **Q21. Write a Python program that reads a file and prints the number of occurrences of a specific word**"
      ],
      "metadata": {
        "id": "a-n6RS1A1vms"
      }
    },
    {
      "cell_type": "code",
      "source": [
        "def count_word_occurrences(file_path, target_word):\n",
        "    try:\n",
        "        with open(file_path, 'r') as file:\n",
        "            content = file.read()\n",
        "            # Convert text to lowercase to make the search case-insensitive\n",
        "            content = content.lower()\n",
        "            # Split the content into words\n",
        "            words = content.split()\n",
        "            # Count the occurrences of the target word\n",
        "            word_count = words.count(target_word.lower())\n",
        "            return word_count\n",
        "    except FileNotFoundError:\n",
        "        print(f\"The file '{file_path}' does not exist.\")\n",
        "        return None\n",
        "    except Exception as e:\n",
        "        print(f\"An error occurred: {e}\")\n",
        "        return None\n",
        "\n",
        "# Example usage\n",
        "file_path = 'sample.txt'\n",
        "target_word = 'example'\n",
        "occurrences = count_word_occurrences(file_path, target_word)\n",
        "if occurrences is not None:\n",
        "    print(f\"The word '{target_word}' occurs {occurrences} times in the file '{file_path}'.\")\n"
      ],
      "metadata": {
        "colab": {
          "base_uri": "https://localhost:8080/"
        },
        "id": "EXzqDU3j1-Qz",
        "outputId": "6f909505-8b03-4f55-ca8a-d52085489daf"
      },
      "execution_count": null,
      "outputs": [
        {
          "output_type": "stream",
          "name": "stdout",
          "text": [
            "The file 'sample.txt' does not exist.\n"
          ]
        }
      ]
    },
    {
      "cell_type": "markdown",
      "source": [
        "# **Q22. How can you check if a file is empty before attempting to read its contents**"
      ],
      "metadata": {
        "id": "LwQMm9X_3eLW"
      }
    },
    {
      "source": [
        "import os\n",
        "\n",
        "file_path = 'example.txt'\n",
        "\n",
        "# Check if the file exists before getting its size\n",
        "if os.path.exists(file_path):\n",
        "    if os.path.getsize(file_path) == 0:\n",
        "        print(\"File is empty!\")\n",
        "    else:\n",
        "        print(\"File is not empty.\")\n",
        "else:\n",
        "    print(f\"The file '{file_path}' does not exist.\")"
      ],
      "cell_type": "code",
      "metadata": {
        "colab": {
          "base_uri": "https://localhost:8080/"
        },
        "id": "jyfkli8r57Cf",
        "outputId": "bb13870f-d0f5-4581-b439-d04994d3b5cc"
      },
      "execution_count": null,
      "outputs": [
        {
          "output_type": "stream",
          "name": "stdout",
          "text": [
            "The file 'example.txt' does not exist.\n"
          ]
        }
      ]
    },
    {
      "cell_type": "markdown",
      "source": [
        "# **Q23. Write a Python program that writes to a log file when an error occurs during file handling**"
      ],
      "metadata": {
        "id": "esXJV52k6FSW"
      }
    },
    {
      "cell_type": "code",
      "source": [
        "import logging\n",
        "\n",
        "# Configure the logging module\n",
        "logging.basicConfig(\n",
        "    filename='file_handling_errors.log',  # Log file name\n",
        "    level=logging.ERROR,                  # Log only error messages\n",
        "    format='%(asctime)s - %(levelname)s - %(message)s'\n",
        ")\n",
        "\n",
        "def read_file(file_path):\n",
        "    \"\"\"\n",
        "    Reads the content of a file and returns it.\n",
        "    Logs an error if the file cannot be read.\n",
        "    \"\"\"\n",
        "    try:\n",
        "        with open(file_path, 'r') as file:\n",
        "            return file.read()\n",
        "    except Exception as e:\n",
        "        logging.error(f\"Failed to read file '{file_path}': {e}\")\n",
        "        return None\n",
        "\n",
        "# Example usage\n",
        "file_content = read_file('example.txt')\n",
        "if file_content is not None:\n",
        "    print(file_content)\n",
        "else:\n",
        "    print(\"An error occurred while reading the file.\")\n"
      ],
      "metadata": {
        "colab": {
          "base_uri": "https://localhost:8080/"
        },
        "id": "Ynh1JBmi6VtW",
        "outputId": "895a943c-75be-4f46-a177-19e49c9e272f"
      },
      "execution_count": null,
      "outputs": [
        {
          "output_type": "stream",
          "name": "stderr",
          "text": [
            "ERROR:root:Failed to read file 'example.txt': [Errno 2] No such file or directory: 'example.txt'\n"
          ]
        },
        {
          "output_type": "stream",
          "name": "stdout",
          "text": [
            "An error occurred while reading the file.\n"
          ]
        }
      ]
    }
  ]
}